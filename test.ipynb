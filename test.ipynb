{
 "cells": [
  {
   "cell_type": "code",
   "execution_count": null,
   "metadata": {},
   "outputs": [
    {
     "name": "stdout",
     "output_type": "stream",
     "text": [
      "abcuvw\n",
      "defxyz\n"
     ]
    }
   ],
   "source": [
    "for tup in (zip(['abc','def'], ['uvw', 'xyz'])):\n",
    "    print(''.join(tup))\n",
    "\n",
    "## Equivalent q\n",
    "\n",
    "# q)show l2: 2 3#\"uvwxyz\"\n",
    "# \"uvw\"\n",
    "# \"xyz\"\n",
    "# q)l1, l2\n",
    "# \"abc\"\n",
    "# \"def\"\n",
    "# \"uvw\"\n",
    "# \"xyz\"\n",
    "# q)l1,'l2\n",
    "# \"abcuvw\"\n",
    "# \"defxyz\""
   ]
  },
  {
   "cell_type": "code",
   "execution_count": null,
   "metadata": {},
   "outputs": [],
   "source": []
  }
 ],
 "metadata": {
  "kernelspec": {
   "display_name": "base",
   "language": "python",
   "name": "python3"
  },
  "language_info": {
   "codemirror_mode": {
    "name": "ipython",
    "version": 3
   },
   "file_extension": ".py",
   "mimetype": "text/x-python",
   "name": "python",
   "nbconvert_exporter": "python",
   "pygments_lexer": "ipython3",
   "version": "3.12.7"
  }
 },
 "nbformat": 4,
 "nbformat_minor": 2
}
